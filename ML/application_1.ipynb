{
  "nbformat": 4,
  "nbformat_minor": 0,
  "metadata": {
    "colab": {
      "name": "application.ipynb",
      "provenance": [],
      "collapsed_sections": []
    },
    "kernelspec": {
      "name": "python3",
      "display_name": "Python 3"
    }
  },
  "cells": [
    {
      "cell_type": "code",
      "metadata": {
        "id": "UX0ONT5PrvDB",
        "colab_type": "code",
        "colab": {
          "base_uri": "https://localhost:8080/",
          "height": 34
        },
        "outputId": "3d16771e-4aee-4d95-b8d3-38f7219e89fc"
      },
      "source": [
        "import keras\n",
        "import cv2\n",
        "import matplotlib.pyplot as plt\n",
        "import numpy as np"
      ],
      "execution_count": 3,
      "outputs": [
        {
          "output_type": "stream",
          "text": [
            "Using TensorFlow backend.\n"
          ],
          "name": "stderr"
        }
      ]
    },
    {
      "cell_type": "code",
      "metadata": {
        "id": "7lqxYjK3s15-",
        "colab_type": "code",
        "colab": {
          "base_uri": "https://localhost:8080/",
          "height": 34
        },
        "outputId": "2bd5e375-1351-44f9-8c14-67333497383c"
      },
      "source": [
        "from google.colab import drive\n",
        "drive.mount(\"/content/drive\")\n",
        "X = np.load(\"/content/drive/My Drive/Dataset.npy\")"
      ],
      "execution_count": 4,
      "outputs": [
        {
          "output_type": "stream",
          "text": [
            "Drive already mounted at /content/drive; to attempt to forcibly remount, call drive.mount(\"/content/drive\", force_remount=True).\n"
          ],
          "name": "stdout"
        }
      ]
    },
    {
      "cell_type": "code",
      "metadata": {
        "id": "PoYWtRbVtTUm",
        "colab_type": "code",
        "colab": {}
      },
      "source": [
        "X = []\n",
        "for i in range(313):\n",
        "  img = cv2.imread(\"/content/drive/My Drive/Intermediate_Assignment_Dataset/NoSunglasses\"+ f\"{i}\" + \".pgm\")\n",
        "  arr = keras.preprocessing.image.img_to_array(img)\n",
        "  X.append(arr)\n",
        "for i in range(311):\n",
        "  img = cv2.imread(\"/content/drive/My Drive/Intermediate_Assignment_Dataset/YesSunglasses\"+ f\"{i}\" + \".pgm\")\n",
        "  arr = keras.preprocessing.image.img_to_array(img)\n",
        "  X.append(arr)\n",
        "np.save(\"/content/drive/My Drive/Dataset.npy\",X)"
      ],
      "execution_count": null,
      "outputs": []
    },
    {
      "cell_type": "code",
      "metadata": {
        "id": "Ok4Sc1FdyvmB",
        "colab_type": "code",
        "colab": {}
      },
      "source": [
        "X = np.array(X)"
      ],
      "execution_count": 5,
      "outputs": []
    },
    {
      "cell_type": "code",
      "metadata": {
        "id": "dQf6pWxd0Y1h",
        "colab_type": "code",
        "colab": {}
      },
      "source": [
        "y = []\n",
        "for i in range(313):\n",
        "  y.append([0,1])\n",
        "for i in range(311):\n",
        "  y.append([1,0])\n",
        "\n",
        "y = np.array(y)"
      ],
      "execution_count": 6,
      "outputs": []
    },
    {
      "cell_type": "code",
      "metadata": {
        "id": "TQM5KyhW0sue",
        "colab_type": "code",
        "colab": {}
      },
      "source": [
        "from sklearn.model_selection import train_test_split\n",
        "X_train,X_test,y_train,y_test = train_test_split(X,y,test_size = 0.2, random_state = 0)"
      ],
      "execution_count": 7,
      "outputs": []
    },
    {
      "cell_type": "code",
      "metadata": {
        "id": "N2TMrdVE1eTI",
        "colab_type": "code",
        "colab": {}
      },
      "source": [
        "from keras.models import Sequential\n",
        "from keras.layers import Conv2D\n",
        "from keras.layers import MaxPooling2D\n",
        "from keras.layers import Flatten\n",
        "from keras.layers import Dense\n",
        "from keras.layers import Dropout\n",
        "from keras import regularizers"
      ],
      "execution_count": 10,
      "outputs": []
    },
    {
      "cell_type": "code",
      "metadata": {
        "id": "05NrvJYZ3vVY",
        "colab_type": "code",
        "colab": {
          "base_uri": "https://localhost:8080/",
          "height": 731
        },
        "outputId": "578c5fc1-5b18-494e-9af3-096e0af191ce"
      },
      "source": [
        "model = Sequential()\n",
        "model.add(Conv2D(32,(3,3),activation=None))\n",
        "model.add(MaxPooling2D())\n",
        "model.add(Flatten())\n",
        "model.add(Dense(400,activation='relu'))\n",
        "model.add(Dropout(0.1))\n",
        "model.add(Dense(80,activation = 'relu'))\n",
        "model.add(Dense(2,activation = 'sigmoid',kernel_regularizer=regularizers.l2(0.01)))\n",
        "model.compile(optimizer='adam',loss='binary_crossentropy',metrics = ['accuracy'])\n",
        "model.fit(X_train,y_train,epochs=20,validation_split=0.2)"
      ],
      "execution_count": 31,
      "outputs": [
        {
          "output_type": "stream",
          "text": [
            "Train on 399 samples, validate on 100 samples\n",
            "Epoch 1/20\n",
            "399/399 [==============================] - 16s 39ms/step - loss: 465.1156 - accuracy: 0.5125 - val_loss: 183.8643 - val_accuracy: 0.4800\n",
            "Epoch 2/20\n",
            "399/399 [==============================] - 11s 28ms/step - loss: 89.7116 - accuracy: 0.5689 - val_loss: 10.2418 - val_accuracy: 0.7400\n",
            "Epoch 3/20\n",
            "399/399 [==============================] - 11s 28ms/step - loss: 16.0759 - accuracy: 0.6980 - val_loss: 9.3553 - val_accuracy: 0.7200\n",
            "Epoch 4/20\n",
            "399/399 [==============================] - 11s 28ms/step - loss: 9.3087 - accuracy: 0.7456 - val_loss: 3.5025 - val_accuracy: 0.8200\n",
            "Epoch 5/20\n",
            "399/399 [==============================] - 11s 28ms/step - loss: 2.9042 - accuracy: 0.8559 - val_loss: 0.9093 - val_accuracy: 0.8900\n",
            "Epoch 6/20\n",
            "399/399 [==============================] - 11s 28ms/step - loss: 1.5742 - accuracy: 0.8910 - val_loss: 0.9279 - val_accuracy: 0.9200\n",
            "Epoch 7/20\n",
            "399/399 [==============================] - 11s 28ms/step - loss: 0.9487 - accuracy: 0.9148 - val_loss: 0.8191 - val_accuracy: 0.9200\n",
            "Epoch 8/20\n",
            "399/399 [==============================] - 11s 28ms/step - loss: 0.8537 - accuracy: 0.9361 - val_loss: 0.7860 - val_accuracy: 0.9500\n",
            "Epoch 9/20\n",
            "399/399 [==============================] - 11s 28ms/step - loss: 0.9787 - accuracy: 0.9424 - val_loss: 0.8649 - val_accuracy: 0.9150\n",
            "Epoch 10/20\n",
            "399/399 [==============================] - 11s 28ms/step - loss: 0.4561 - accuracy: 0.9561 - val_loss: 0.4788 - val_accuracy: 0.9600\n",
            "Epoch 11/20\n",
            "399/399 [==============================] - 11s 28ms/step - loss: 0.3584 - accuracy: 0.9586 - val_loss: 0.9216 - val_accuracy: 0.9250\n",
            "Epoch 12/20\n",
            "399/399 [==============================] - 11s 28ms/step - loss: 0.3587 - accuracy: 0.9624 - val_loss: 2.1441 - val_accuracy: 0.8600\n",
            "Epoch 13/20\n",
            "399/399 [==============================] - 11s 28ms/step - loss: 0.4930 - accuracy: 0.9612 - val_loss: 0.7052 - val_accuracy: 0.9400\n",
            "Epoch 14/20\n",
            "399/399 [==============================] - 11s 28ms/step - loss: 0.6486 - accuracy: 0.9624 - val_loss: 1.4873 - val_accuracy: 0.9200\n",
            "Epoch 15/20\n",
            "399/399 [==============================] - 11s 28ms/step - loss: 0.7039 - accuracy: 0.9486 - val_loss: 2.6950 - val_accuracy: 0.8700\n",
            "Epoch 16/20\n",
            "399/399 [==============================] - 11s 28ms/step - loss: 1.0270 - accuracy: 0.9474 - val_loss: 1.0722 - val_accuracy: 0.9250\n",
            "Epoch 17/20\n",
            "399/399 [==============================] - 11s 28ms/step - loss: 0.2446 - accuracy: 0.9774 - val_loss: 1.6486 - val_accuracy: 0.9000\n",
            "Epoch 18/20\n",
            "399/399 [==============================] - 11s 28ms/step - loss: 0.6570 - accuracy: 0.9649 - val_loss: 1.0458 - val_accuracy: 0.9400\n",
            "Epoch 19/20\n",
            "399/399 [==============================] - 11s 28ms/step - loss: 0.1799 - accuracy: 0.9862 - val_loss: 0.7807 - val_accuracy: 0.9400\n",
            "Epoch 20/20\n",
            "399/399 [==============================] - 11s 29ms/step - loss: 0.1484 - accuracy: 0.9925 - val_loss: 0.9005 - val_accuracy: 0.9400\n"
          ],
          "name": "stdout"
        },
        {
          "output_type": "execute_result",
          "data": {
            "text/plain": [
              "<keras.callbacks.callbacks.History at 0x7f0d23c78f98>"
            ]
          },
          "metadata": {
            "tags": []
          },
          "execution_count": 31
        }
      ]
    },
    {
      "cell_type": "code",
      "metadata": {
        "id": "4aVnCYDo43w4",
        "colab_type": "code",
        "colab": {}
      },
      "source": [
        "y_test_pred = model.predict(X_test)\n",
        "y_test_pred = np.round(y_test_pred)"
      ],
      "execution_count": 32,
      "outputs": []
    },
    {
      "cell_type": "code",
      "metadata": {
        "id": "bFUWprpH-GfA",
        "colab_type": "code",
        "colab": {
          "base_uri": "https://localhost:8080/",
          "height": 34
        },
        "outputId": "78815467-04a5-4036-ff3c-cfc9666e3db6"
      },
      "source": [
        "from sklearn.metrics import accuracy_score\n",
        "test_acc = accuracy_score(y_test_pred,y_test)\n",
        "test_acc"
      ],
      "execution_count": 33,
      "outputs": [
        {
          "output_type": "execute_result",
          "data": {
            "text/plain": [
              "0.928"
            ]
          },
          "metadata": {
            "tags": []
          },
          "execution_count": 33
        }
      ]
    }
  ]
}