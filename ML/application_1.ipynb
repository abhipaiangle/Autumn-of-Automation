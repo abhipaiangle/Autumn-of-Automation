{
  "nbformat": 4,
  "nbformat_minor": 0,
  "metadata": {
    "colab": {
      "name": "application.ipynb",
      "provenance": [],
      "collapsed_sections": []
    },
    "kernelspec": {
      "name": "python3",
      "display_name": "Python 3"
    }
  },
  "cells": [
    {
      "cell_type": "code",
      "metadata": {
        "id": "7lqxYjK3s15-",
        "colab_type": "code",
        "colab": {
          "base_uri": "https://localhost:8080/",
          "height": 54
        },
        "outputId": "7046e01b-cdd4-42a7-fe5f-6f3b629c8a2e"
      },
      "source": [
        "from google.colab import drive\n",
        "drive.mount(\"/content/drive\")\n",
        "X = np.load(\"/content/drive/My Drive/Dataset.npy\")"
      ],
      "execution_count": 3,
      "outputs": [
        {
          "output_type": "stream",
          "text": [
            "Drive already mounted at /content/drive; to attempt to forcibly remount, call drive.mount(\"/content/drive\", force_remount=True).\n"
          ],
          "name": "stdout"
        }
      ]
    },
    {
      "cell_type": "code",
      "metadata": {
        "id": "PoYWtRbVtTUm",
        "colab_type": "code",
        "colab": {}
      },
      "source": [
        "X = []\n",
        "for i in range(313):\n",
        "  img = cv2.imread(\"/content/drive/My Drive/Intermediate_Assignment_Dataset/NoSunglasses\"+ f\"{i}\" + \".pgm\")\n",
        "  arr = keras.preprocessing.image.img_to_array(img)\n",
        "  X.append(arr)\n",
        "for i in range(311):\n",
        "  img = cv2.imread(\"/content/drive/My Drive/Intermediate_Assignment_Dataset/YesSunglasses\"+ f\"{i}\" + \".pgm\")\n",
        "  arr = keras.preprocessing.image.img_to_array(img)\n",
        "  X.append(arr)\n",
        "np.save(\"/content/drive/My Drive/Dataset.npy\",X)"
      ],
      "execution_count": 20,
      "outputs": []
    },
    {
      "cell_type": "code",
      "metadata": {
        "id": "UX0ONT5PrvDB",
        "colab_type": "code",
        "colab": {
          "base_uri": "https://localhost:8080/",
          "height": 34
        },
        "outputId": "09b3c6ae-e59a-485f-f95b-ff5c7b298c3e"
      },
      "source": [
        "import keras\n",
        "import cv2\n",
        "import matplotlib.pyplot as plt\n",
        "import numpy as np"
      ],
      "execution_count": 2,
      "outputs": [
        {
          "output_type": "stream",
          "text": [
            "Using TensorFlow backend.\n"
          ],
          "name": "stderr"
        }
      ]
    },
    {
      "cell_type": "code",
      "metadata": {
        "id": "Ok4Sc1FdyvmB",
        "colab_type": "code",
        "colab": {}
      },
      "source": [
        "X = np.array(X)"
      ],
      "execution_count": 3,
      "outputs": []
    },
    {
      "cell_type": "code",
      "metadata": {
        "id": "dQf6pWxd0Y1h",
        "colab_type": "code",
        "colab": {}
      },
      "source": [
        "y = []\n",
        "for i in range(313):\n",
        "  y.append([0,1])\n",
        "for i in range(311):\n",
        "  y.append([1,0])\n",
        "\n",
        "y = np.array(y)"
      ],
      "execution_count": 4,
      "outputs": []
    },
    {
      "cell_type": "code",
      "metadata": {
        "id": "TQM5KyhW0sue",
        "colab_type": "code",
        "colab": {}
      },
      "source": [
        "from sklearn.model_selection import train_test_split\n",
        "X_train,X_test,y_train,y_test = train_test_split(X,y,test_size = 0.2, random_state = 0)"
      ],
      "execution_count": 43,
      "outputs": []
    },
    {
      "cell_type": "code",
      "metadata": {
        "id": "N2TMrdVE1eTI",
        "colab_type": "code",
        "colab": {}
      },
      "source": [
        "from keras.models import Sequential\n",
        "from keras.layers import Conv2D\n",
        "from keras.layers import MaxPooling2D\n",
        "from keras.layers import Flatten\n",
        "from keras.layers import Dense\n",
        "from keras import regularizers"
      ],
      "execution_count": 54,
      "outputs": []
    },
    {
      "cell_type": "code",
      "metadata": {
        "id": "05NrvJYZ3vVY",
        "colab_type": "code",
        "colab": {
          "base_uri": "https://localhost:8080/",
          "height": 581
        },
        "outputId": "eacc2f19-5306-4596-86d8-3a6df46d564e"
      },
      "source": [
        "model = Sequential()\n",
        "model.add(Conv2D(32,3))\n",
        "model.add(MaxPooling2D())\n",
        "model.add(Flatten())\n",
        "model.add(Dense(64,activation='relu'))\n",
        "model.add(Dense(64,activation = 'relu'))\n",
        "model.add(Dense(2,activation = 'sigmoid',kernel_regularizer=regularizers.l2(0.01)))\n",
        "model.compile(optimizer='adam',loss='binary_crossentropy',metrics = ['accuracy'])\n",
        "model.fit(X_train,y_train,epochs=15,validation_split=0.2)"
      ],
      "execution_count": 83,
      "outputs": [
        {
          "output_type": "stream",
          "text": [
            "Train on 399 samples, validate on 100 samples\n",
            "Epoch 1/15\n",
            "399/399 [==============================] - 5s 12ms/step - loss: 279.6058 - accuracy: 0.4787 - val_loss: 45.5528 - val_accuracy: 0.5900\n",
            "Epoch 2/15\n",
            "399/399 [==============================] - 5s 11ms/step - loss: 25.6802 - accuracy: 0.5952 - val_loss: 4.8586 - val_accuracy: 0.7350\n",
            "Epoch 3/15\n",
            "399/399 [==============================] - 4s 11ms/step - loss: 6.4927 - accuracy: 0.7105 - val_loss: 2.3171 - val_accuracy: 0.7400\n",
            "Epoch 4/15\n",
            "399/399 [==============================] - 5s 11ms/step - loss: 1.5280 - accuracy: 0.8509 - val_loss: 0.9974 - val_accuracy: 0.8750\n",
            "Epoch 5/15\n",
            "399/399 [==============================] - 4s 11ms/step - loss: 0.5844 - accuracy: 0.9148 - val_loss: 0.6535 - val_accuracy: 0.9100\n",
            "Epoch 6/15\n",
            "399/399 [==============================] - 5s 13ms/step - loss: 0.2352 - accuracy: 0.9511 - val_loss: 0.6158 - val_accuracy: 0.9000\n",
            "Epoch 7/15\n",
            "399/399 [==============================] - 7s 17ms/step - loss: 0.1109 - accuracy: 0.9837 - val_loss: 0.5874 - val_accuracy: 0.9350\n",
            "Epoch 8/15\n",
            "399/399 [==============================] - 4s 11ms/step - loss: 0.0476 - accuracy: 0.9950 - val_loss: 0.6551 - val_accuracy: 0.9100\n",
            "Epoch 9/15\n",
            "399/399 [==============================] - 4s 11ms/step - loss: 0.0363 - accuracy: 1.0000 - val_loss: 0.5746 - val_accuracy: 0.9300\n",
            "Epoch 10/15\n",
            "399/399 [==============================] - 4s 11ms/step - loss: 0.0347 - accuracy: 1.0000 - val_loss: 0.5350 - val_accuracy: 0.9300\n",
            "Epoch 11/15\n",
            "399/399 [==============================] - 5s 11ms/step - loss: 0.0341 - accuracy: 1.0000 - val_loss: 0.5447 - val_accuracy: 0.9250\n",
            "Epoch 12/15\n",
            "399/399 [==============================] - 4s 11ms/step - loss: 0.0339 - accuracy: 1.0000 - val_loss: 0.5422 - val_accuracy: 0.9250\n",
            "Epoch 13/15\n",
            "399/399 [==============================] - 4s 11ms/step - loss: 0.0337 - accuracy: 1.0000 - val_loss: 0.5315 - val_accuracy: 0.9300\n",
            "Epoch 14/15\n",
            "399/399 [==============================] - 4s 11ms/step - loss: 0.0336 - accuracy: 1.0000 - val_loss: 0.5302 - val_accuracy: 0.9300\n",
            "Epoch 15/15\n",
            "399/399 [==============================] - 4s 11ms/step - loss: 0.0334 - accuracy: 1.0000 - val_loss: 0.5285 - val_accuracy: 0.9300\n"
          ],
          "name": "stdout"
        },
        {
          "output_type": "execute_result",
          "data": {
            "text/plain": [
              "<keras.callbacks.callbacks.History at 0x7f99c5c86f28>"
            ]
          },
          "metadata": {
            "tags": []
          },
          "execution_count": 83
        }
      ]
    },
    {
      "cell_type": "code",
      "metadata": {
        "id": "4aVnCYDo43w4",
        "colab_type": "code",
        "colab": {}
      },
      "source": [
        "y_test_pred = model.predict(X_test)\n",
        "y_test_pred = np.round(y_test_pred)"
      ],
      "execution_count": 84,
      "outputs": []
    },
    {
      "cell_type": "code",
      "metadata": {
        "id": "bFUWprpH-GfA",
        "colab_type": "code",
        "colab": {
          "base_uri": "https://localhost:8080/",
          "height": 34
        },
        "outputId": "661c72b3-e94c-497a-c1f6-c09b42f98a0d"
      },
      "source": [
        "test_acc = accuracy_score(y_test_pred,y_test)\n",
        "test_acc"
      ],
      "execution_count": 85,
      "outputs": [
        {
          "output_type": "execute_result",
          "data": {
            "text/plain": [
              "0.944"
            ]
          },
          "metadata": {
            "tags": []
          },
          "execution_count": 85
        }
      ]
    }
  ]
}